{
  "nbformat": 4,
  "nbformat_minor": 0,
  "metadata": {
    "colab": {
      "provenance": [],
      "collapsed_sections": [],
      "authorship_tag": "ABX9TyPDsWS3VGoItUlqrhbj2FzE",
      "include_colab_link": true
    },
    "kernelspec": {
      "name": "python3",
      "display_name": "Python 3"
    },
    "language_info": {
      "name": "python"
    }
  },
  "cells": [
    {
      "cell_type": "markdown",
      "metadata": {
        "id": "view-in-github",
        "colab_type": "text"
      },
      "source": [
        "<a href=\"https://colab.research.google.com/github/SantiagoGMari/nuevorp/blob/main/Proyecto_J1006.ipynb\" target=\"_parent\"><img src=\"https://colab.research.google.com/assets/colab-badge.svg\" alt=\"Open In Colab\"/></a>"
      ]
    },
    {
      "cell_type": "markdown",
      "source": [
        "Se importan las librerias necesarias"
      ],
      "metadata": {
        "id": "KqScgU4Cl0Rr"
      }
    },
    {
      "cell_type": "code",
      "source": [
        "from distutils.filelist import findall\n",
        "import bs4\n",
        "from bs4 import BeautifulSoup\n",
        "import requests\n",
        "import pandas as pd\n",
        "import re"
      ],
      "metadata": {
        "id": "74bqzGT2lvbe"
      },
      "execution_count": 54,
      "outputs": []
    },
    {
      "cell_type": "markdown",
      "source": [
        "Se declara la página sobre la que se va a trabajar"
      ],
      "metadata": {
        "id": "pIjuIS6Vl7RM"
      }
    },
    {
      "cell_type": "code",
      "execution_count": 55,
      "metadata": {
        "id": "8_hD1Uhcltvl"
      },
      "outputs": [],
      "source": [
        "url= \"https://www.greatplacetowork.com.ar/los-mejores-lugares-para-trabajar-para-pymes/2022\""
      ]
    },
    {
      "cell_type": "markdown",
      "source": [
        "Se realiza la extraccion"
      ],
      "metadata": {
        "id": "Hp_QIeq8mT94"
      }
    },
    {
      "cell_type": "code",
      "source": [
        "page= requests.get (url)\n",
        "soup= BeautifulSoup (page.content, \"html.parser\")\n",
        "extraccion= soup.find_all(\"span\",style=\"color: #292b30;\")\n"
      ],
      "metadata": {
        "id": "F-vFTHG_mmMB"
      },
      "execution_count": 56,
      "outputs": []
    },
    {
      "cell_type": "markdown",
      "source": [
        "Se crea una lista vacía para almacenar los datos extraídos"
      ],
      "metadata": {
        "id": "eyOgYRrYmqSf"
      }
    },
    {
      "cell_type": "code",
      "source": [
        "datos= list()"
      ],
      "metadata": {
        "id": "AydwW1Zym1S5"
      },
      "execution_count": 57,
      "outputs": []
    },
    {
      "cell_type": "markdown",
      "source": [
        "Se almacenan los datos extraídos dentro de la lista vacía"
      ],
      "metadata": {
        "id": "cvcATzNtm6HJ"
      }
    },
    {
      "cell_type": "code",
      "source": [
        "for i in extraccion:\n",
        "    datos.append(i.text)"
      ],
      "metadata": {
        "id": "GvI4ZJrmnEuZ"
      },
      "execution_count": 58,
      "outputs": []
    },
    {
      "cell_type": "markdown",
      "source": [
        "Se extraen los datos de la categoría \"Empresa\""
      ],
      "metadata": {
        "id": "yX5HYNGUnGXn"
      }
    },
    {
      "cell_type": "code",
      "source": [
        "empresa=datos[1:100:5]"
      ],
      "metadata": {
        "id": "ngr0Cr8GnWBh"
      },
      "execution_count": 59,
      "outputs": []
    },
    {
      "cell_type": "markdown",
      "source": [
        "Se extraen los datos de la categoría \"Ubicación\""
      ],
      "metadata": {
        "id": "fRKFnnKOnZnA"
      }
    },
    {
      "cell_type": "code",
      "source": [
        "ubicacion=datos[2:101:5]"
      ],
      "metadata": {
        "id": "wfFBJZSNnhxf"
      },
      "execution_count": 60,
      "outputs": []
    },
    {
      "cell_type": "markdown",
      "source": [
        "Se extraen los datos de la categoría \"Rubro\""
      ],
      "metadata": {
        "id": "OpCm-l9xnnCR"
      }
    },
    {
      "cell_type": "code",
      "source": [
        "rubro=datos[3:102:5]"
      ],
      "metadata": {
        "id": "acIkZAZ7nvSQ"
      },
      "execution_count": 61,
      "outputs": []
    },
    {
      "cell_type": "markdown",
      "source": [
        "Se extraen los datos de la categoría \"Cantidad de Empleados\""
      ],
      "metadata": {
        "id": "fFSyakRknxRY"
      }
    },
    {
      "cell_type": "code",
      "source": [
        "cant_emp=datos[4:103:5]"
      ],
      "metadata": {
        "id": "TMm7ATTfoAZw"
      },
      "execution_count": 62,
      "outputs": []
    },
    {
      "cell_type": "markdown",
      "source": [
        "Se procesa el resultado para obtener el formato deseado"
      ],
      "metadata": {
        "id": "XNaLvSbPRnHM"
      }
    },
    {
      "cell_type": "code",
      "source": [
        "num_de_emp=list()\n",
        "for i in cant_emp:\n",
        "    num_de_emp.append(i[-2:])"
      ],
      "metadata": {
        "id": "BoZ32_QFRttY"
      },
      "execution_count": 63,
      "outputs": []
    },
    {
      "cell_type": "markdown",
      "source": [
        "Se crea el Data Frame"
      ],
      "metadata": {
        "id": "I0MiWu_joEWZ"
      }
    },
    {
      "cell_type": "code",
      "source": [
        "df= pd.DataFrame ({'Empresa': empresa, 'Ubicacion': ubicacion, 'Rubro':rubro, 'Cant_Empleados': num_de_emp}, index=list(range(1,21)))"
      ],
      "metadata": {
        "id": "UzWfIVSgoTPD"
      },
      "execution_count": 64,
      "outputs": []
    },
    {
      "cell_type": "markdown",
      "source": [
        "Se imprime el Data Frame"
      ],
      "metadata": {
        "id": "FWAVvckaoaSr"
      }
    },
    {
      "cell_type": "code",
      "source": [
        "print(df)"
      ],
      "metadata": {
        "id": "orj0i_86of3z",
        "colab": {
          "base_uri": "https://localhost:8080/"
        },
        "outputId": "7ed18447-4c58-48dd-b045-957e0e1523ba"
      },
      "execution_count": 65,
      "outputs": [
        {
          "output_type": "stream",
          "name": "stdout",
          "text": [
            "                    Empresa                                       Ubicacion  \\\n",
            "1                Growketing                                 CABA, Argentina   \n",
            "2            Viví Marketing                                 CABA, Argentina   \n",
            "3                  Bombieri   Concepción del Uruguay, Entre Ríos, Argentina   \n",
            "4                 Evaluados             Córdoba Capital, Córdoba, Argentina   \n",
            "5                  PAGOS360             Córdoba Capital, Córdoba, Argentina   \n",
            "6                  BI Media                                 CABA, Argentina   \n",
            "7                     ADBOT                                 CABA, Argentina   \n",
            "8               MobyDigital             Córdoba Capital, Córdoba, Argentina   \n",
            "9                 Cuponstar                                 CABA, Argentina   \n",
            "10                  Gen IT                                  CABA, Argentina   \n",
            "11                  VAREGOS                                 CABA, Argentina   \n",
            "12           Atlas Shipping                                 CABA, Argentina   \n",
            "13  OJAM BULLRICH FLANZBAUM                                 CABA, Argentina   \n",
            "14                   Kilimo             Córdoba Capital, Córdoba, Argentina   \n",
            "15                 Daltosur                                 CABA, Argentina   \n",
            "16               Punto Rojo                         Buenos Aires, Argentina   \n",
            "17                   Amedia                                 CABA, Argentina   \n",
            "18                Milbrands                         Buenos Aires, Argentina   \n",
            "19            Satoshi Tango                                 CABA, Argentina   \n",
            "20               MKT Baires              Temperley, Buenos Aires, Argentina   \n",
            "\n",
            "                              Rubro Cant_Empleados  \n",
            "1            Publicidad y Marketing             30  \n",
            "2            Publicidad y Marketing             11  \n",
            "3      Tecnología de la Información             40  \n",
            "4      Tecnología de la Información             16  \n",
            "5                           Fintech             21  \n",
            "6            Publicidad y Marketing             12  \n",
            "7            Publicidad y Marketing             10  \n",
            "8      Tecnología de la Información             47  \n",
            "9            Publicidad y Marketing             43  \n",
            "10   Tecnologías de la información              49  \n",
            "11     Tecnología de la Información             49  \n",
            "12           Transporte y logística             25  \n",
            "13          Servicios Profesionales             49  \n",
            "14             Agricultura | Agtech             49  \n",
            "15                             Otra             19  \n",
            "16          Publicidad y Marketing              50  \n",
            "17    Tecnologías de la información             40  \n",
            "18           Publicidad y Marketing             21  \n",
            "19            Servicios financieros             42  \n",
            "20           Publicidad y marketing             12  \n"
          ]
        }
      ]
    },
    {
      "cell_type": "markdown",
      "source": [
        "Se exporta el Data Frame en formato CSV"
      ],
      "metadata": {
        "id": "qDscaPKQRz6m"
      }
    },
    {
      "cell_type": "code",
      "source": [
        "df.to_csv(\"Top20.csv\")"
      ],
      "metadata": {
        "id": "QaTmq5AF26c0"
      },
      "execution_count": 66,
      "outputs": []
    },
    {
      "cell_type": "markdown",
      "source": [
        "Graficos"
      ],
      "metadata": {
        "id": "1jDvlctepAZT"
      }
    },
    {
      "cell_type": "code",
      "source": [
        "dat= pd.read_csv(\"Top20.csv\")"
      ],
      "metadata": {
        "id": "b_MJaeNZ1cfZ"
      },
      "execution_count": 67,
      "outputs": []
    },
    {
      "cell_type": "code",
      "source": [
        "torta_ubic=dat.Ubicacion.value_counts()\n",
        "torta_ubic.plot.pie(autopct='%1.1f%%')"
      ],
      "metadata": {
        "id": "5YxuEGMB3Pm0",
        "colab": {
          "base_uri": "https://localhost:8080/",
          "height": 265
        },
        "outputId": "d29f730b-5b18-4fc6-a912-98518387b0f1"
      },
      "execution_count": 68,
      "outputs": [
        {
          "output_type": "execute_result",
          "data": {
            "text/plain": [
              "<matplotlib.axes._subplots.AxesSubplot at 0x7f5b074fb890>"
            ]
          },
          "metadata": {},
          "execution_count": 68
        },
        {
          "output_type": "display_data",
          "data": {
            "text/plain": [
              "<Figure size 432x288 with 1 Axes>"
            ],
            "image/png": "[encoded data removed]"
          },
          "metadata": {}
        }
      ]
    },
    {
      "cell_type": "code",
      "source": [
        "barras_emp=dat.Cant_Empleados.value_counts()\n",
        "barras_emp.plot.bar()"
      ],
      "metadata": {
        "id": "_dYJA-tq62Si",
        "colab": {
          "base_uri": "https://localhost:8080/",
          "height": 285
        },
        "outputId": "e7e04213-940b-4b22-9afb-9c26820b4a91"
      },
      "execution_count": 69,
      "outputs": [
        {
          "output_type": "execute_result",
          "data": {
            "text/plain": [
              "<matplotlib.axes._subplots.AxesSubplot at 0x7f5b07bd4cd0>"
            ]
          },
          "metadata": {},
          "execution_count": 69
        },
        {
          "output_type": "display_data",
          "data": {
            "text/plain": [
              "<Figure size 432x288 with 1 Axes>"
            ],
            "image/png": "[encoded data removed]"
          },
          "metadata": {
            "needs_background": "light"
          }
        }
      ]
    },
    {
      "cell_type": "code",
      "source": [
        "barras_rubro=dat.Rubro.value_counts()\n",
        "barras_rubro.plot.barh()"
      ],
      "metadata": {
        "id": "sWINPft0XOiP",
        "colab": {
          "base_uri": "https://localhost:8080/",
          "height": 282
        },
        "outputId": "8ba679f7-82ba-4b12-df4c-514b5d751d6f"
      },
      "execution_count": 70,
      "outputs": [
        {
          "output_type": "execute_result",
          "data": {
            "text/plain": [
              "<matplotlib.axes._subplots.AxesSubplot at 0x7f5b0740ed90>"
            ]
          },
          "metadata": {},
          "execution_count": 70
        },
        {
          "output_type": "display_data",
          "data": {
            "text/plain": [
              "<Figure size 432x288 with 1 Axes>"
            ],
            "image/png": "[encoded data removed]"
          },
          "metadata": {
            "needs_background": "light"
          }
        }
      ]
    }
  ]
}